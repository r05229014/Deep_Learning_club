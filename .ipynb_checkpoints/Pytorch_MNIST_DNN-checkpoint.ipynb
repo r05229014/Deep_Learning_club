{
 "cells": [
  {
   "cell_type": "code",
   "execution_count": 1,
   "metadata": {},
   "outputs": [],
   "source": [
    "import os\n",
    "import numpy as np\n",
    "import matplotlib.pyplot as plt\n",
    "import torch \n",
    "import torch.nn as nn\n",
    "import torch.nn.functional as F\n",
    "from torch.autograd import Variable\n",
    "import torchvision.datasets as dset\n",
    "import torchvision.transforms as transforms\n",
    "import torch.optim as optim\n",
    "\n",
    "# use gpu\n",
    "cuda = True\n",
    "cuda = cuda and torch.cuda.is_available()\n",
    "\n",
    "seed = 666\n",
    "if cuda:\n",
    "    torch.cuda.manual_seed(seed)"
   ]
  },
  {
   "cell_type": "markdown",
   "metadata": {},
   "source": [
    "# Load MNIST data "
   ]
  },
  {
   "cell_type": "code",
   "execution_count": 3,
   "metadata": {},
   "outputs": [],
   "source": [
    "if not os.path.exists('./data'):\n",
    "    os.mkdir('./data')\n",
    "    \n",
    "trans = transforms.Compose([transforms.ToTensor(), transforms.Normalize((0.5,), (1.0,))])\n",
    "train_set = dset.MNIST(root='./data', train=True, transform=trans, download=False)\n",
    "test_set = dset.MNIST(root='./data', train=False, transform=trans, download=False)\n",
    "\n",
    "batch_size = 64\n",
    "train_loader = torch.utils.data.DataLoader(\n",
    "                 dataset=train_set,\n",
    "                 batch_size=batch_size,\n",
    "                 shuffle=True)\n",
    "test_loader = torch.utils.data.DataLoader(\n",
    "                dataset=test_set,\n",
    "                batch_size=batch_size,\n",
    "                shuffle=True)"
   ]
  },
  {
   "cell_type": "markdown",
   "metadata": {},
   "source": [
    "# Visualize data"
   ]
  },
  {
   "cell_type": "code",
   "execution_count": 4,
   "metadata": {},
   "outputs": [
    {
     "data": {
      "image/png": "[encoded data removed]",
      "text/plain": [
       "<Figure size 432x288 with 5 Axes>"
      ]
     },
     "metadata": {},
     "output_type": "display_data"
    }
   ],
   "source": [
    "batch = next(iter(test_loader)) # test loader is an iterable\n",
    "samples = batch[0][:5]\n",
    "y_true = batch[1]\n",
    "for i, sample in enumerate(samples):\n",
    "    plt.subplot(1, 5, i+1)\n",
    "    plt.title('Number: %i' %y_true[i])\n",
    "    plt.imshow(sample.numpy().reshape(28,28))\n",
    "    plt.axis('off')"
   ]
  },
  {
   "cell_type": "markdown",
   "metadata": {},
   "source": [
    "# Define the NN"
   ]
  },
  {
   "cell_type": "code",
   "execution_count": 4,
   "metadata": {},
   "outputs": [],
   "source": [
    "class NN(nn.Module):\n",
    "    def __init__(self):\n",
    "        super(NN, self).__init__()\n",
    "        \n",
    "        self.fc1 = nn.Linear(28*28, 256)\n",
    "        self.fc2 = nn.Linear(256, 256)\n",
    "        self.fc3 = nn.Linear(256,10)\n",
    "        \n",
    "    def forward(self, x):\n",
    "        x = x.view(-1, 28*28)\n",
    "        x = F.relu(self.fc1(x))\n",
    "        x = F.relu(self.fc2(x))\n",
    "        out = F.softmax(self.fc3(x))\n",
    "        return out"
   ]
  },
  {
   "cell_type": "markdown",
   "metadata": {},
   "source": [
    "# Training"
   ]
  },
  {
   "cell_type": "code",
   "execution_count": 5,
   "metadata": {},
   "outputs": [
    {
     "name": "stderr",
     "output_type": "stream",
     "text": [
      "/home/ericakcc/anaconda3/envs/pytorch/lib/python3.6/site-packages/ipykernel_launcher.py:13: UserWarning: Implicit dimension choice for softmax has been deprecated. Change the call to include dim=X as an argument.\n",
      "  del sys.path[0]\n"
     ]
    },
    {
     "name": "stdout",
     "output_type": "stream",
     "text": [
      " Train Epoch: 0 [64/60000 (0%)]\tLoss: 2.301097\n",
      " Train Epoch: 0 [6464/60000 (11%)]\tLoss: 1.619173\n",
      " Train Epoch: 0 [12864/60000 (21%)]\tLoss: 1.605539\n",
      " Train Epoch: 0 [19264/60000 (32%)]\tLoss: 1.585468\n",
      " Train Epoch: 0 [25664/60000 (43%)]\tLoss: 1.581948\n",
      " Train Epoch: 0 [32064/60000 (53%)]\tLoss: 1.550701\n",
      " Train Epoch: 0 [38464/60000 (64%)]\tLoss: 1.538856\n",
      " Train Epoch: 0 [44864/60000 (75%)]\tLoss: 1.530743\n",
      " Train Epoch: 0 [51264/60000 (85%)]\tLoss: 1.533216\n",
      " Train Epoch: 0 [57664/60000 (96%)]\tLoss: 1.557186\n",
      " Train Epoch: 1 [64/60000 (0%)]\tLoss: 1.569079\n",
      " Train Epoch: 1 [6464/60000 (11%)]\tLoss: 1.558888\n",
      " Train Epoch: 1 [12864/60000 (21%)]\tLoss: 1.598992\n",
      " Train Epoch: 1 [19264/60000 (32%)]\tLoss: 1.526896\n",
      " Train Epoch: 1 [25664/60000 (43%)]\tLoss: 1.531517\n",
      " Train Epoch: 1 [32064/60000 (53%)]\tLoss: 1.547326\n",
      " Train Epoch: 1 [38464/60000 (64%)]\tLoss: 1.533538\n",
      " Train Epoch: 1 [44864/60000 (75%)]\tLoss: 1.590641\n",
      " Train Epoch: 1 [51264/60000 (85%)]\tLoss: 1.470651\n",
      " Train Epoch: 1 [57664/60000 (96%)]\tLoss: 1.602085\n",
      " Train Epoch: 2 [64/60000 (0%)]\tLoss: 1.543755\n",
      " Train Epoch: 2 [6464/60000 (11%)]\tLoss: 1.506886\n",
      " Train Epoch: 2 [12864/60000 (21%)]\tLoss: 1.492985\n",
      " Train Epoch: 2 [19264/60000 (32%)]\tLoss: 1.488934\n",
      " Train Epoch: 2 [25664/60000 (43%)]\tLoss: 1.491505\n",
      " Train Epoch: 2 [32064/60000 (53%)]\tLoss: 1.504260\n",
      " Train Epoch: 2 [38464/60000 (64%)]\tLoss: 1.499109\n",
      " Train Epoch: 2 [44864/60000 (75%)]\tLoss: 1.534349\n",
      " Train Epoch: 2 [51264/60000 (85%)]\tLoss: 1.501395\n",
      " Train Epoch: 2 [57664/60000 (96%)]\tLoss: 1.525301\n",
      " Train Epoch: 3 [64/60000 (0%)]\tLoss: 1.511479\n",
      " Train Epoch: 3 [6464/60000 (11%)]\tLoss: 1.506761\n",
      " Train Epoch: 3 [12864/60000 (21%)]\tLoss: 1.557392\n",
      " Train Epoch: 3 [19264/60000 (32%)]\tLoss: 1.534579\n",
      " Train Epoch: 3 [25664/60000 (43%)]\tLoss: 1.551345\n",
      " Train Epoch: 3 [32064/60000 (53%)]\tLoss: 1.509088\n",
      " Train Epoch: 3 [38464/60000 (64%)]\tLoss: 1.526233\n",
      " Train Epoch: 3 [44864/60000 (75%)]\tLoss: 1.499915\n",
      " Train Epoch: 3 [51264/60000 (85%)]\tLoss: 1.533748\n",
      " Train Epoch: 3 [57664/60000 (96%)]\tLoss: 1.477627\n",
      " Train Epoch: 4 [64/60000 (0%)]\tLoss: 1.510493\n",
      " Train Epoch: 4 [6464/60000 (11%)]\tLoss: 1.469017\n",
      " Train Epoch: 4 [12864/60000 (21%)]\tLoss: 1.509364\n",
      " Train Epoch: 4 [19264/60000 (32%)]\tLoss: 1.508803\n",
      " Train Epoch: 4 [25664/60000 (43%)]\tLoss: 1.467407\n",
      " Train Epoch: 4 [32064/60000 (53%)]\tLoss: 1.498372\n",
      " Train Epoch: 4 [38464/60000 (64%)]\tLoss: 1.494393\n",
      " Train Epoch: 4 [44864/60000 (75%)]\tLoss: 1.479008\n",
      " Train Epoch: 4 [51264/60000 (85%)]\tLoss: 1.467198\n",
      " Train Epoch: 4 [57664/60000 (96%)]\tLoss: 1.525236\n",
      " Train Epoch: 5 [64/60000 (0%)]\tLoss: 1.479389\n",
      " Train Epoch: 5 [6464/60000 (11%)]\tLoss: 1.476523\n",
      " Train Epoch: 5 [12864/60000 (21%)]\tLoss: 1.476993\n",
      " Train Epoch: 5 [19264/60000 (32%)]\tLoss: 1.503296\n",
      " Train Epoch: 5 [25664/60000 (43%)]\tLoss: 1.498039\n",
      " Train Epoch: 5 [32064/60000 (53%)]\tLoss: 1.498022\n",
      " Train Epoch: 5 [38464/60000 (64%)]\tLoss: 1.461839\n",
      " Train Epoch: 5 [44864/60000 (75%)]\tLoss: 1.502602\n",
      " Train Epoch: 5 [51264/60000 (85%)]\tLoss: 1.477171\n",
      " Train Epoch: 5 [57664/60000 (96%)]\tLoss: 1.548958\n",
      " Train Epoch: 6 [64/60000 (0%)]\tLoss: 1.523017\n",
      " Train Epoch: 6 [6464/60000 (11%)]\tLoss: 1.462330\n",
      " Train Epoch: 6 [12864/60000 (21%)]\tLoss: 1.489900\n",
      " Train Epoch: 6 [19264/60000 (32%)]\tLoss: 1.474744\n",
      " Train Epoch: 6 [25664/60000 (43%)]\tLoss: 1.490912\n",
      " Train Epoch: 6 [32064/60000 (53%)]\tLoss: 1.525784\n",
      " Train Epoch: 6 [38464/60000 (64%)]\tLoss: 1.487170\n",
      " Train Epoch: 6 [44864/60000 (75%)]\tLoss: 1.539567\n",
      " Train Epoch: 6 [51264/60000 (85%)]\tLoss: 1.505322\n",
      " Train Epoch: 6 [57664/60000 (96%)]\tLoss: 1.507204\n",
      " Train Epoch: 7 [64/60000 (0%)]\tLoss: 1.484767\n",
      " Train Epoch: 7 [6464/60000 (11%)]\tLoss: 1.476849\n",
      " Train Epoch: 7 [12864/60000 (21%)]\tLoss: 1.480187\n",
      " Train Epoch: 7 [19264/60000 (32%)]\tLoss: 1.508619\n",
      " Train Epoch: 7 [25664/60000 (43%)]\tLoss: 1.492915\n",
      " Train Epoch: 7 [32064/60000 (53%)]\tLoss: 1.476831\n",
      " Train Epoch: 7 [38464/60000 (64%)]\tLoss: 1.483864\n",
      " Train Epoch: 7 [44864/60000 (75%)]\tLoss: 1.461338\n",
      " Train Epoch: 7 [51264/60000 (85%)]\tLoss: 1.517919\n",
      " Train Epoch: 7 [57664/60000 (96%)]\tLoss: 1.492401\n",
      " Train Epoch: 8 [64/60000 (0%)]\tLoss: 1.477388\n",
      " Train Epoch: 8 [6464/60000 (11%)]\tLoss: 1.515074\n",
      " Train Epoch: 8 [12864/60000 (21%)]\tLoss: 1.503215\n",
      " Train Epoch: 8 [19264/60000 (32%)]\tLoss: 1.522915\n",
      " Train Epoch: 8 [25664/60000 (43%)]\tLoss: 1.521345\n",
      " Train Epoch: 8 [32064/60000 (53%)]\tLoss: 1.507281\n",
      " Train Epoch: 8 [38464/60000 (64%)]\tLoss: 1.539223\n",
      " Train Epoch: 8 [44864/60000 (75%)]\tLoss: 1.474533\n",
      " Train Epoch: 8 [51264/60000 (85%)]\tLoss: 1.461545\n",
      " Train Epoch: 8 [57664/60000 (96%)]\tLoss: 1.493824\n",
      " Train Epoch: 9 [64/60000 (0%)]\tLoss: 1.488330\n",
      " Train Epoch: 9 [6464/60000 (11%)]\tLoss: 1.461177\n",
      " Train Epoch: 9 [12864/60000 (21%)]\tLoss: 1.521018\n",
      " Train Epoch: 9 [19264/60000 (32%)]\tLoss: 1.461151\n",
      " Train Epoch: 9 [25664/60000 (43%)]\tLoss: 1.461157\n",
      " Train Epoch: 9 [32064/60000 (53%)]\tLoss: 1.479636\n",
      " Train Epoch: 9 [38464/60000 (64%)]\tLoss: 1.520493\n",
      " Train Epoch: 9 [44864/60000 (75%)]\tLoss: 1.461151\n",
      " Train Epoch: 9 [51264/60000 (85%)]\tLoss: 1.492587\n",
      " Train Epoch: 9 [57664/60000 (96%)]\tLoss: 1.475020\n"
     ]
    }
   ],
   "source": [
    "model = NN()\n",
    "if cuda:\n",
    "    model.cuda()\n",
    "model.train()\n",
    "\n",
    "optimizer = optim.Adam(model.parameters(), lr=0.001)  # opt\n",
    "\n",
    "losses = []\n",
    "for epoch in range(10):\n",
    "    # training\n",
    "    for i, (batch_x, batch_y) in enumerate(train_loader):\n",
    "        # get input \n",
    "        X, y = Variable(batch_x.cuda()), Variable(batch_y.cuda())\n",
    "        optimizer.zero_grad()  # zero the gradient buffers\n",
    "        \n",
    "        # Predict by model\n",
    "        out = model(X)\n",
    "        \n",
    "        # Calculate loss \n",
    "        loss = F.cross_entropy(out, y)\n",
    "        losses.append(loss.item())\n",
    "        \n",
    "        # Backpropagation\n",
    "        loss.backward()\n",
    "        optimizer.step()  # Does the update \n",
    "        \n",
    "        # Display \n",
    "        if i % 100 == 1:\n",
    "            print('\\r Train Epoch: {} [{}/{} ({:.0f}%)]\\tLoss: {:.6f}'.format(\n",
    "                epoch, \n",
    "                i * len(batch_x), \n",
    "                len(train_loader.dataset),\n",
    "                100. * i / len(train_loader), \n",
    "                loss.item()))"
   ]
  },
  {
   "cell_type": "code",
   "execution_count": 6,
   "metadata": {},
   "outputs": [
    {
     "data": {
      "text/plain": [
       "[<matplotlib.lines.Line2D at 0x7f0060112780>]"
      ]
     },
     "execution_count": 6,
     "metadata": {},
     "output_type": "execute_result"
    },
    {
     "data": {
      "image/png": "[encoded data removed]",
      "text/plain": [
       "<Figure size 432x288 with 1 Axes>"
      ]
     },
     "metadata": {
      "needs_background": "light"
     },
     "output_type": "display_data"
    }
   ],
   "source": [
    "# plot losses in every step\n",
    "plt.plot(losses)"
   ]
  },
  {
   "cell_type": "markdown",
   "metadata": {},
   "source": [
    "# Evaluate"
   ]
  },
  {
   "cell_type": "code",
   "execution_count": 7,
   "metadata": {},
   "outputs": [
    {
     "name": "stdout",
     "output_type": "stream",
     "text": [
      "Accuracy: tensor(0.9378)\n"
     ]
    },
    {
     "name": "stderr",
     "output_type": "stream",
     "text": [
      "/home/ericakcc/.local/lib/python3.6/site-packages/torchvision/datasets/mnist.py:58: UserWarning: test_data has been renamed data\n",
      "  warnings.warn(\"test_data has been renamed data\")\n",
      "/home/ericakcc/.local/lib/python3.6/site-packages/torchvision/datasets/mnist.py:48: UserWarning: test_labels has been renamed targets\n",
      "  warnings.warn(\"test_labels has been renamed targets\")\n",
      "/home/ericakcc/anaconda3/envs/pytorch/lib/python3.6/site-packages/ipykernel_launcher.py:13: UserWarning: Implicit dimension choice for softmax has been deprecated. Change the call to include dim=X as an argument.\n",
      "  del sys.path[0]\n"
     ]
    }
   ],
   "source": [
    "evaluate_x = Variable(test_loader.dataset.test_data.type_as(torch.FloatTensor())).cuda()\n",
    "evaluate_y = Variable(test_loader.dataset.test_labels).cuda()\n",
    "\n",
    "\n",
    "output = model(evaluate_x)\n",
    "pred = output.data.max(1)[1]\n",
    "d = pred.eq(evaluate_y.data).cpu()\n",
    "accuracy = d.sum().float()/d.size()[0]\n",
    "\n",
    "print('Accuracy:', accuracy)"
   ]
  },
  {
   "cell_type": "markdown",
   "metadata": {},
   "source": [
    "# CNN  3/27"
   ]
  },
  {
   "cell_type": "code",
   "execution_count": 9,
   "metadata": {},
   "outputs": [],
   "source": [
    "class CNN(nn.Module):\n",
    "    def __init__(self):\n",
    "        super(CNN, self).__init__()\n",
    "        self.conv1 = nn.Sequential(\n",
    "            nn.Conv2d(in_channels =1, out_channels=16, kernel_size=5, stride=1, padding=2),\n",
    "            nn.ReLU(),\n",
    "            nn.MaxPool2d(kernel_size=2)\n",
    "        )\n",
    "        \n",
    "        self.conv2 = nn.Sequential(\n",
    "            nn.Conv2d(16,32,5,1,2),\n",
    "            nn.ReLU(),\n",
    "            nn.MaxPool2d(2)\n",
    "        )\n",
    "        self.out = nn.Linear(32*7*7,10)\n",
    "        \n",
    "    def forward(self, x):\n",
    "        x = self.conv1(x)\n",
    "        x = self.conv2(x)\n",
    "        x = x.view(x.size(0),-1)  # in keras this is flatten()\n",
    "        output = self.out(x)\n",
    "        \n",
    "        return output"
   ]
  },
  {
   "cell_type": "code",
   "execution_count": 21,
   "metadata": {},
   "outputs": [
    {
     "name": "stdout",
     "output_type": "stream",
     "text": [
      "CNN(\n",
      "  (conv1): Sequential(\n",
      "    (0): Conv2d(1, 16, kernel_size=(5, 5), stride=(1, 1), padding=(2, 2))\n",
      "    (1): ReLU()\n",
      "    (2): MaxPool2d(kernel_size=2, stride=2, padding=0, dilation=1, ceil_mode=False)\n",
      "  )\n",
      "  (conv2): Sequential(\n",
      "    (0): Conv2d(16, 32, kernel_size=(5, 5), stride=(1, 1), padding=(2, 2))\n",
      "    (1): ReLU()\n",
      "    (2): MaxPool2d(kernel_size=2, stride=2, padding=0, dilation=1, ceil_mode=False)\n",
      "  )\n",
      "  (out): Linear(in_features=1568, out_features=10, bias=True)\n",
      ")\n"
     ]
    }
   ],
   "source": [
    "model = CNN()\n",
    "print(cnn)\n",
    "\n",
    "optimizer = optim.Adam(model.parameters(), lr=0.001)  # opt\n",
    "criterion = nn.CrossEntropyLoss()\n",
    "\n",
    "if torch.cuda.is_available():\n",
    "    model = model.cuda()\n",
    "    criterion = criterion.cuda()"
   ]
  },
  {
   "cell_type": "code",
   "execution_count": 28,
   "metadata": {},
   "outputs": [],
   "source": [
    "def train(epoch):\n",
    "    print('Training......')\n",
    "    model.train()\n",
    "\n",
    "    for batch_idx, (data, target) in enumerate(train_loader):\n",
    "        data, target = Variable(data), Variable(target)\n",
    "        \n",
    "        if torch.cuda.is_available():\n",
    "            data = data.cuda()\n",
    "            target = target.cuda()\n",
    "        \n",
    "        optimizer.zero_grad()\n",
    "        output = model(data)\n",
    "        loss = criterion(output, target)\n",
    "        \n",
    "        loss.backward()\n",
    "        optimizer.step()\n",
    "        \n",
    "        if (batch_idx + 1)% 100 == 0:\n",
    "            print('Train Epoch: {} [{}/{} ({:.0f}%)]\\tLoss: {:.6f}'.format(\n",
    "                epoch, (batch_idx + 1) * len(data), len(train_loader.dataset),\n",
    "                100. * (batch_idx + 1) / len(train_loader), loss.item()))"
   ]
  },
  {
   "cell_type": "code",
   "execution_count": 31,
   "metadata": {},
   "outputs": [],
   "source": [
    "def evaluate(data_loader):\n",
    "    model.eval()\n",
    "    loss = 0\n",
    "    correct = 0\n",
    "    \n",
    "    for data, target in data_loader:\n",
    "        data, target = Variable(data, volatile=True), Variable(target)\n",
    "        if torch.cuda.is_available():\n",
    "            data = data.cuda()\n",
    "            target = target.cuda()\n",
    "        \n",
    "        output = model(data)\n",
    "        \n",
    "        loss += F.cross_entropy(output, target, size_average=False).item()\n",
    "\n",
    "        pred = output.data.max(1, keepdim=True)[1]\n",
    "        correct += pred.eq(target.data.view_as(pred)).cpu().sum()\n",
    "        \n",
    "    loss /= len(data_loader.dataset)\n",
    "        \n",
    "    print('\\nAverage loss: {:.4f}, Accuracy: {}/{} ({:.3f}%)\\n'.format(\n",
    "        loss, correct, len(data_loader.dataset),\n",
    "        100. * correct / len(data_loader.dataset)))"
   ]
  },
  {
   "cell_type": "code",
   "execution_count": 32,
   "metadata": {
    "scrolled": false
   },
   "outputs": [
    {
     "name": "stdout",
     "output_type": "stream",
     "text": [
      "Training......\n",
      "Train Epoch: 0 [6400/60000 (11%)]\tLoss: 0.050945\n",
      "Train Epoch: 0 [12800/60000 (21%)]\tLoss: 0.064526\n",
      "Train Epoch: 0 [19200/60000 (32%)]\tLoss: 0.040814\n",
      "Train Epoch: 0 [25600/60000 (43%)]\tLoss: 0.064009\n",
      "Train Epoch: 0 [32000/60000 (53%)]\tLoss: 0.007286\n",
      "Train Epoch: 0 [38400/60000 (64%)]\tLoss: 0.062923\n",
      "Train Epoch: 0 [44800/60000 (75%)]\tLoss: 0.143851\n",
      "Train Epoch: 0 [51200/60000 (85%)]\tLoss: 0.016554\n",
      "Train Epoch: 0 [57600/60000 (96%)]\tLoss: 0.014034\n"
     ]
    },
    {
     "name": "stderr",
     "output_type": "stream",
     "text": [
      "/home/ericakcc/anaconda3/lib/python3.6/site-packages/ipykernel_launcher.py:7: UserWarning: volatile was removed and now has no effect. Use `with torch.no_grad():` instead.\n",
      "  import sys\n",
      "/home/ericakcc/.local/lib/python3.6/site-packages/torch/nn/_reduction.py:49: UserWarning: size_average and reduce args will be deprecated, please use reduction='sum' instead.\n",
      "  warnings.warn(warning.format(ret))\n"
     ]
    },
    {
     "name": "stdout",
     "output_type": "stream",
     "text": [
      "\n",
      "Average loss: 0.0389, Accuracy: 59321/60000 (98.000%)\n",
      "\n",
      "Training......\n",
      "Train Epoch: 1 [6400/60000 (11%)]\tLoss: 0.115316\n",
      "Train Epoch: 1 [12800/60000 (21%)]\tLoss: 0.089290\n",
      "Train Epoch: 1 [19200/60000 (32%)]\tLoss: 0.042864\n",
      "Train Epoch: 1 [25600/60000 (43%)]\tLoss: 0.017153\n",
      "Train Epoch: 1 [32000/60000 (53%)]\tLoss: 0.027199\n",
      "Train Epoch: 1 [38400/60000 (64%)]\tLoss: 0.032549\n",
      "Train Epoch: 1 [44800/60000 (75%)]\tLoss: 0.020235\n",
      "Train Epoch: 1 [51200/60000 (85%)]\tLoss: 0.009436\n",
      "Train Epoch: 1 [57600/60000 (96%)]\tLoss: 0.027288\n",
      "\n",
      "Average loss: 0.0326, Accuracy: 59399/60000 (98.000%)\n",
      "\n",
      "Training......\n",
      "Train Epoch: 2 [6400/60000 (11%)]\tLoss: 0.022684\n",
      "Train Epoch: 2 [12800/60000 (21%)]\tLoss: 0.029744\n",
      "Train Epoch: 2 [19200/60000 (32%)]\tLoss: 0.007821\n",
      "Train Epoch: 2 [25600/60000 (43%)]\tLoss: 0.020615\n",
      "Train Epoch: 2 [32000/60000 (53%)]\tLoss: 0.004520\n",
      "Train Epoch: 2 [38400/60000 (64%)]\tLoss: 0.001376\n",
      "Train Epoch: 2 [44800/60000 (75%)]\tLoss: 0.038656\n",
      "Train Epoch: 2 [51200/60000 (85%)]\tLoss: 0.013938\n",
      "Train Epoch: 2 [57600/60000 (96%)]\tLoss: 0.071141\n",
      "\n",
      "Average loss: 0.0237, Accuracy: 59548/60000 (99.000%)\n",
      "\n",
      "Training......\n",
      "Train Epoch: 3 [6400/60000 (11%)]\tLoss: 0.026245\n",
      "Train Epoch: 3 [12800/60000 (21%)]\tLoss: 0.003002\n",
      "Train Epoch: 3 [19200/60000 (32%)]\tLoss: 0.007898\n",
      "Train Epoch: 3 [25600/60000 (43%)]\tLoss: 0.032008\n",
      "Train Epoch: 3 [32000/60000 (53%)]\tLoss: 0.002597\n",
      "Train Epoch: 3 [38400/60000 (64%)]\tLoss: 0.014082\n",
      "Train Epoch: 3 [44800/60000 (75%)]\tLoss: 0.025539\n",
      "Train Epoch: 3 [51200/60000 (85%)]\tLoss: 0.010775\n",
      "Train Epoch: 3 [57600/60000 (96%)]\tLoss: 0.007164\n",
      "\n",
      "Average loss: 0.0182, Accuracy: 59666/60000 (99.000%)\n",
      "\n",
      "Training......\n",
      "Train Epoch: 4 [6400/60000 (11%)]\tLoss: 0.001537\n",
      "Train Epoch: 4 [12800/60000 (21%)]\tLoss: 0.010979\n",
      "Train Epoch: 4 [19200/60000 (32%)]\tLoss: 0.001446\n",
      "Train Epoch: 4 [25600/60000 (43%)]\tLoss: 0.110727\n",
      "Train Epoch: 4 [32000/60000 (53%)]\tLoss: 0.003013\n",
      "Train Epoch: 4 [38400/60000 (64%)]\tLoss: 0.002280\n",
      "Train Epoch: 4 [44800/60000 (75%)]\tLoss: 0.072006\n",
      "Train Epoch: 4 [51200/60000 (85%)]\tLoss: 0.079749\n",
      "Train Epoch: 4 [57600/60000 (96%)]\tLoss: 0.028957\n",
      "\n",
      "Average loss: 0.0169, Accuracy: 59685/60000 (99.000%)\n",
      "\n",
      "Training......\n",
      "Train Epoch: 5 [6400/60000 (11%)]\tLoss: 0.002163\n",
      "Train Epoch: 5 [12800/60000 (21%)]\tLoss: 0.002451\n",
      "Train Epoch: 5 [19200/60000 (32%)]\tLoss: 0.022920\n",
      "Train Epoch: 5 [25600/60000 (43%)]\tLoss: 0.027983\n",
      "Train Epoch: 5 [32000/60000 (53%)]\tLoss: 0.055146\n",
      "Train Epoch: 5 [38400/60000 (64%)]\tLoss: 0.020750\n",
      "Train Epoch: 5 [44800/60000 (75%)]\tLoss: 0.066318\n",
      "Train Epoch: 5 [51200/60000 (85%)]\tLoss: 0.013367\n",
      "Train Epoch: 5 [57600/60000 (96%)]\tLoss: 0.013588\n",
      "\n",
      "Average loss: 0.0175, Accuracy: 59658/60000 (99.000%)\n",
      "\n",
      "Training......\n",
      "Train Epoch: 6 [6400/60000 (11%)]\tLoss: 0.004663\n",
      "Train Epoch: 6 [12800/60000 (21%)]\tLoss: 0.001225\n",
      "Train Epoch: 6 [19200/60000 (32%)]\tLoss: 0.027315\n",
      "Train Epoch: 6 [25600/60000 (43%)]\tLoss: 0.000983\n",
      "Train Epoch: 6 [32000/60000 (53%)]\tLoss: 0.003228\n",
      "Train Epoch: 6 [38400/60000 (64%)]\tLoss: 0.002105\n",
      "Train Epoch: 6 [44800/60000 (75%)]\tLoss: 0.003316\n",
      "Train Epoch: 6 [51200/60000 (85%)]\tLoss: 0.001081\n",
      "Train Epoch: 6 [57600/60000 (96%)]\tLoss: 0.024563\n",
      "\n",
      "Average loss: 0.0099, Accuracy: 59814/60000 (99.000%)\n",
      "\n",
      "Training......\n",
      "Train Epoch: 7 [6400/60000 (11%)]\tLoss: 0.002913\n",
      "Train Epoch: 7 [12800/60000 (21%)]\tLoss: 0.003615\n",
      "Train Epoch: 7 [19200/60000 (32%)]\tLoss: 0.001648\n",
      "Train Epoch: 7 [25600/60000 (43%)]\tLoss: 0.002979\n",
      "Train Epoch: 7 [32000/60000 (53%)]\tLoss: 0.062731\n",
      "Train Epoch: 7 [38400/60000 (64%)]\tLoss: 0.022962\n",
      "Train Epoch: 7 [44800/60000 (75%)]\tLoss: 0.000195\n",
      "Train Epoch: 7 [51200/60000 (85%)]\tLoss: 0.018339\n",
      "Train Epoch: 7 [57600/60000 (96%)]\tLoss: 0.065193\n",
      "\n",
      "Average loss: 0.0084, Accuracy: 59844/60000 (99.000%)\n",
      "\n",
      "Training......\n",
      "Train Epoch: 8 [6400/60000 (11%)]\tLoss: 0.000063\n",
      "Train Epoch: 8 [12800/60000 (21%)]\tLoss: 0.002955\n",
      "Train Epoch: 8 [19200/60000 (32%)]\tLoss: 0.009431\n",
      "Train Epoch: 8 [25600/60000 (43%)]\tLoss: 0.015843\n",
      "Train Epoch: 8 [32000/60000 (53%)]\tLoss: 0.058971\n",
      "Train Epoch: 8 [38400/60000 (64%)]\tLoss: 0.028872\n",
      "Train Epoch: 8 [44800/60000 (75%)]\tLoss: 0.000813\n",
      "Train Epoch: 8 [51200/60000 (85%)]\tLoss: 0.000314\n",
      "Train Epoch: 8 [57600/60000 (96%)]\tLoss: 0.060342\n",
      "\n",
      "Average loss: 0.0091, Accuracy: 59825/60000 (99.000%)\n",
      "\n",
      "Training......\n",
      "Train Epoch: 9 [6400/60000 (11%)]\tLoss: 0.000865\n",
      "Train Epoch: 9 [12800/60000 (21%)]\tLoss: 0.001332\n",
      "Train Epoch: 9 [19200/60000 (32%)]\tLoss: 0.001474\n",
      "Train Epoch: 9 [25600/60000 (43%)]\tLoss: 0.023618\n",
      "Train Epoch: 9 [32000/60000 (53%)]\tLoss: 0.003636\n",
      "Train Epoch: 9 [38400/60000 (64%)]\tLoss: 0.001010\n",
      "Train Epoch: 9 [44800/60000 (75%)]\tLoss: 0.004944\n",
      "Train Epoch: 9 [51200/60000 (85%)]\tLoss: 0.000204\n",
      "Train Epoch: 9 [57600/60000 (96%)]\tLoss: 0.000235\n",
      "\n",
      "Average loss: 0.0099, Accuracy: 59788/60000 (99.000%)\n",
      "\n"
     ]
    }
   ],
   "source": [
    "n_epochs = 10\n",
    "\n",
    "for epoch in range(n_epochs):\n",
    "    train(epoch)\n",
    "    evaluate(train_loader)"
   ]
  },
  {
   "cell_type": "code",
   "execution_count": null,
   "metadata": {},
   "outputs": [],
   "source": []
  }
 ],
 "metadata": {
  "kernelspec": {
   "display_name": "Python 3",
   "language": "python",
   "name": "python3"
  },
  "language_info": {
   "codemirror_mode": {
    "name": "ipython",
    "version": 3
   },
   "file_extension": ".py",
   "mimetype": "text/x-python",
   "name": "python",
   "nbconvert_exporter": "python",
   "pygments_lexer": "ipython3",
   "version": "3.6.5"
  }
 },
 "nbformat": 4,
 "nbformat_minor": 2
}
